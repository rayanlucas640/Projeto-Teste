{
  "nbformat": 4,
  "nbformat_minor": 0,
  "metadata": {
    "colab": {
      "provenance": [],
      "authorship_tag": "ABX9TyNFgF1C0KfUfKqM1TvBV13o",
      "include_colab_link": true
    },
    "kernelspec": {
      "name": "python3",
      "display_name": "Python 3"
    },
    "language_info": {
      "name": "python"
    }
  },
  "cells": [
    {
      "cell_type": "markdown",
      "metadata": {
        "id": "view-in-github",
        "colab_type": "text"
      },
      "source": [
        "<a href=\"https://colab.research.google.com/github/rayanlucas640/Projeto-Teste/blob/main/Projeto_Teste.ipynb\" target=\"_parent\"><img src=\"https://colab.research.google.com/assets/colab-badge.svg\" alt=\"Open In Colab\"/></a>"
      ]
    },
    {
      "cell_type": "code",
      "execution_count": 1,
      "metadata": {
        "colab": {
          "base_uri": "https://localhost:8080/"
        },
        "id": "Nl3u1NRR8XuI",
        "outputId": "544f7fc8-1d4f-48f8-8c74-f0747ac744a1"
      },
      "outputs": [
        {
          "output_type": "stream",
          "name": "stdout",
          "text": [
            "Digite seu Nome: rayan\n",
            "Digite sua Idade: 15\n",
            "Nome:  rayan Idade:  15\n",
            "Nome: rayan Idade 15\n"
          ]
        }
      ],
      "source": [
        "nome = input(\"Digite seu Nome: \")\n",
        "idade = input(\"Digite sua Idade: \")\n",
        "print(\"Nome: \",nome, \"Idade: \",idade)\n",
        "print(f\"Nome: {nome} Idade {idade}\")"
      ]
    }
  ]
}